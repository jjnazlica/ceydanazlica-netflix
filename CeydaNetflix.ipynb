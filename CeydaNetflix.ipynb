{
 "cells": [
  {
   "cell_type": "markdown",
   "metadata": {},
   "source": [
    "# My Own Code for Scraping/Cleaning Netflix Data"
   ]
  },
  {
   "cell_type": "code",
   "execution_count": null,
   "metadata": {},
   "outputs": [],
   "source": [
    "from selenium import webdriver\n",
    "from selenium.webdriver.common.by import By\n",
    "from selenium.webdriver.support.ui import WebDriverWait\n",
    "from selenium.webdriver.support import expected_conditions as EC\n",
    "from selenium.common.exceptions import TimeoutException\n",
    "import time\n"
   ]
  },
  {
   "cell_type": "code",
   "execution_count": null,
   "metadata": {},
   "outputs": [],
   "source": [
    "# login creds\n",
    "mail = \"x\"\n",
    "pw = \"x\" # \n",
    "\n",
    "driver = webdriver.Chrome()\n",
    "\n",
    "driver.get(\"https://www.netflix.com/tr-en/login\")"
   ]
  },
  {
   "cell_type": "code",
   "execution_count": null,
   "metadata": {},
   "outputs": [],
   "source": [
    "# wait for xpath to load\n",
    "wait = WebDriverWait(driver, 10) \n",
    "\n",
    "email_input = wait.until(EC.element_to_be_clickable((By.XPATH, '//input[@name=\"userLoginId\"]'))) \n",
    "password_input = wait.until(EC.element_to_be_clickable((By.XPATH, '//input[@name=\"password\"]')))  \n",
    "\n",
    "# login\n",
    "email_input.send_keys(mail)\n",
    "password_input.send_keys(pw)\n",
    "password_input.submit()"
   ]
  },
  {
   "cell_type": "code",
   "execution_count": null,
   "metadata": {},
   "outputs": [],
   "source": [
    "\n",
    "def select_profile(driver, profile_name):\n",
    "    try:\n",
    "        profile_selector = WebDriverWait(driver, 10).until(\n",
    "            EC.presence_of_element_located((By.XPATH, '//*[@id=\"appMountPoint\"]/div/div/div/div[1]/div[1]/div[2]/div/div/ul'))\n",
    "        )\n",
    "        \n",
    "        profile_elements = profile_selector.find_elements(By.XPATH, './/li//a//span')\n",
    "        \n",
    "        # this was just for scraping and debugging and finding the proper part for profiles, not necessary\n",
    "        print(\"Available profiles:\")\n",
    "        for profile in profile_elements:\n",
    "            print(profile.text)\n",
    "        \n",
    "        for profile in profile_elements:\n",
    "            if profile.text.strip() == profile_name: \n",
    "                profile.click()\n",
    "                print(f\"Selected profile: {profile_name}\")\n",
    "                return\n",
    "        print(f\"Profile '{profile_name}' not found.\")\n",
    "        \n",
    "    except TimeoutException:\n",
    "        print(\"Failed to find the profile list or the profile selector.\")"
   ]
  },
  {
   "cell_type": "code",
   "execution_count": null,
   "metadata": {},
   "outputs": [],
   "source": [
    "# select profile and go to history page\n",
    "profilename = \"x\"\n",
    "select_profile(driver, profilename)\n",
    "\n",
    "time.sleep(7) # 7 sec sleep to login, connection may be slow\n",
    "viewActivityPage = \"https://www.netflix.com/viewingactivity?u=0&p=\"\n",
    "\n",
    "# activity page for a specific profile of mine\n",
    "driver.get(viewActivityPage + profilename)\n",
    "\n",
    "# wait for loading\n",
    "history_list = WebDriverWait(driver, 5).until(EC.presence_of_element_located((By.XPATH, '/html/body/div[1]/div/div/div/div[2]/div/div/ul')))\n"
   ]
  },
  {
   "cell_type": "code",
   "execution_count": null,
   "metadata": {},
   "outputs": [],
   "source": [
    "def download_file(driver):\n",
    "    try:\n",
    "        download_button_xpath = \"/html/body/div[1]/div/div/div/div[2]/div/div/div[2]/div[2]/a[2]\"\n",
    "        \n",
    "        download_button = WebDriverWait(driver, 10).until(\n",
    "            EC.element_to_be_clickable((By.XPATH, download_button_xpath))\n",
    "        )\n",
    "        \n",
    "        download_button.click()\n",
    "        print(\"Download started.\")\n",
    "        \n",
    "        WebDriverWait(driver, 5).until(EC.staleness_of(download_button))\n",
    "        \n",
    "        driver.quit()\n",
    "\n",
    "    except TimeoutException:\n",
    "        print(\"Download button not found or clickable.\")\n",
    "        driver.quit()\n",
    "\n",
    "download_file(driver)\n"
   ]
  },
  {
   "cell_type": "markdown",
   "metadata": {},
   "source": [
    "----\n",
    "Second Phase - Cleaning the data"
   ]
  },
  {
   "cell_type": "code",
   "execution_count": null,
   "metadata": {},
   "outputs": [],
   "source": [
    "import pandas as pd\n",
    "import time"
   ]
  },
  {
   "cell_type": "code",
   "execution_count": null,
   "metadata": {},
   "outputs": [],
   "source": [
    "\n",
    "# read csv\n",
    "csv_file_path = 'NetflixViewingHistory.csv'\n",
    "netflix_data = pd.read_csv(csv_file_path)\n",
    "\n",
    "# df\n",
    "split_columns = pd.DataFrame()\n",
    "\n",
    "# split seasons\n",
    "split_columns = netflix_data['Title'].str.extract(r'^(.*?)(?:: Season (\\d+))?: (.*)$')\n",
    "split_columns.columns = ['Series', 'Season', 'Episode']\n",
    "\n",
    "# movies and shows maybe\n",
    "split_columns['Series'].fillna(netflix_data['Title'], inplace=True)\n",
    "\n",
    "# missing vals\n",
    "split_columns['Season'].fillna('Movie', inplace=True)  \n",
    "split_columns['Episode'].fillna('Movie', inplace=True)  \n",
    "\n",
    "# Data Type Conversion 'Season'\n",
    "split_columns['Season'] = split_columns['Season'].astype('category')\n",
    "\n",
    "netflix_data_cleaned = pd.concat([netflix_data.drop(columns=['Title']), split_columns], axis=1)\n",
    "\n",
    "# cleaned dataframe\n",
    "netflix_data_cleaned\n"
   ]
  }
 ],
 "metadata": {
  "kernelspec": {
   "display_name": "Python 3",
   "language": "python",
   "name": "python3"
  },
  "language_info": {
   "codemirror_mode": {
    "name": "ipython",
    "version": 3
   },
   "file_extension": ".py",
   "mimetype": "text/x-python",
   "name": "python",
   "nbconvert_exporter": "python",
   "pygments_lexer": "ipython3",
   "version": "3.12.3"
  }
 },
 "nbformat": 4,
 "nbformat_minor": 2
}
